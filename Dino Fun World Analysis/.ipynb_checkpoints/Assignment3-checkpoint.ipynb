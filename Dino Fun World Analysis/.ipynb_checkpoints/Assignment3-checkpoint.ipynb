{
    "metadata": {
        "kernelspec": {
            "name": "python3",
            "display_name": "Python 3 (ipykernel)",
            "language": "python"
        }
    },
    "nbformat": 4,
    "nbformat_minor": 2,
    "cells": [
        {
            "attachments": {},
            "cell_type": "markdown",
            "metadata": {},
            "source": [
                "Add your import statements and the database connection statements in the below code block\n",
                "\n",
                "Database file path = '/course/data/CSE-578/dinofunworld.db'"
            ]
        },
        {
            "cell_type": "code",
            "execution_count": 0,
            "metadata": {},
            "outputs": [],
            "source": [
                "# your code here\n",
                ""
            ]
        },
        {
            "attachments": {},
            "cell_type": "markdown",
            "metadata": {},
            "source": [
                "### **Question 1:**\n",
                "Create a distance matrix suitable for use in hierarchical clustering of the checkin sequences of the 5 specified visitors.\n",
                "\n",
                "Your distance function should count the number of dissimilarities in the sequences without considering any other factors.\n",
                "\n",
                "**Note** \n",
                "* The distance matrix should be reported as a dictionary of dictionaries (eg. {1: {2:0, 3:0, 4:0}, 2: {1:0, 3:0, ...}, ...}).\n",
                "* The order of the output is not important."
            ]
        },
        {
            "cell_type": "code",
            "execution_count": 0,
            "metadata": {},
            "outputs": [],
            "source": [
                "### TEST FUNCTION: test_question1\n",
                "# DO NOT REMOVE OR MODIFY THE ABOVE LINE\n",
                "# your code here\n",
                ""
            ]
        },
        {
            "attachments": {},
            "cell_type": "markdown",
            "metadata": {},
            "source": [
                "### **Question 2:**  \n",
                "Create and display a Parallel Coordinate Plot displaying the minimum, maximum and average attendance for each ride in the park.\n",
                "\n",
                "For this question, display a Parallel Coordinate Plot in the notebook and print the data used to create a Parallel Coordinate Plot as a dictionary of dictionaries (eg: {  'Ride1' : {min : 1, max : 3, avg : 2 }, 'Ride2' :{ min : 1, max : 3, avg : 2 } ... })\n",
                "\n",
                "**Note:** \n",
                "* Not all attractions are rides.\n",
                "* The output should be a dictionary and the order of the output is not important.\n",
                "* Use the parallel coordinates function from the **pandas library** to generate the graph.\n",
                "* The Parallel Coordinate plot must have the below mentioned parameters,\n",
                "    * legend and it should be outside the plot.\n",
                "    * y-label ('**Attendance**')\n",
                "    * title named '**Ride Attendance - Minimum, Maximum, Average**'\n",
                "* The plot must not have the following parameters,\n",
                "    * do not set figure size\n",
                "    * do not set font size or font-weight for titles and labels"
            ]
        },
        {
            "cell_type": "code",
            "execution_count": 0,
            "metadata": {},
            "outputs": [],
            "source": [
                "### TEST FUNCTION: test_question2\n",
                "# DO NOT REMOVE OR MODIFY THE ABOVE LINE\n",
                "# your code here\n",
                ""
            ]
        },
        {
            "attachments": {},
            "cell_type": "markdown",
            "metadata": {},
            "source": [
                "### **Question 3:**\n",
                "Create and display a Scatterplot Matrix displaying the minimum, maximum and average attendance for each ride in the park.\n",
                "\n",
                "\n",
                "**Note:** \n",
                "* Print the output values of Question 2 as the same data will be used for Scatterplot.\n",
                "* The output should be a dictionary (eg: {  'Ride1' : {min : 1, max : 3, avg : 2 }, 'Ride2' :{ min : 1, max : 3, avg : 2 } ... }) and the order of the output is not important.\n",
                "* This is a different view into the same data as the previous part. Use the scatter plot matrix function from the **pandas library** to generate the graph.\n",
                "* While you work on these plots, consider the different things that each chart says about the data.\n",
                "* The Scatterplot must have the below mentioned parameters,\n",
                "    * title named ' **Scatterplot Matrix - Minimum, Maximum, Average Attendance** '\n",
                "* The plot must not have the following parameters,\n",
                "    * legend\n",
                "    * do not set figure size\n",
                "    * do not set font size or font-weight for titles and labels"
            ]
        },
        {
            "cell_type": "code",
            "execution_count": 0,
            "metadata": {},
            "outputs": [],
            "source": [
                "### TEST FUNCTION: test_question3\n",
                "# DO NOT REMOVE OR MODIFY THE ABOVE LINE\n",
                "# your code here\n",
                ""
            ]
        }
    ]
}
