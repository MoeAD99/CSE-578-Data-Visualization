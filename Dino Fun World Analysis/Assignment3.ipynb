{
 "cells": [
  {
   "attachments": {},
   "cell_type": "markdown",
   "metadata": {},
   "source": [
    "Add your import statements and the database connection statements in the below code block\n",
    "\n",
    "Database file path = '/course/data/CSE-578/dinofunworld.db'"
   ]
  },
  {
   "cell_type": "code",
   "execution_count": 73,
   "metadata": {},
   "outputs": [
    {
     "name": "stdout",
     "output_type": "stream",
     "text": [
      "[('checkin',), ('attraction',), ('sequences',)]\n",
      "['index', 'visitorID', 'timestamp', 'attraction', 'duration', 'type']\n",
      "['index', 'AttractionID', 'Name', 'Region', 'Category', 'type']\n",
      "['index', 'visitorID', 'sequence']\n"
     ]
    }
   ],
   "source": [
    "# your code here\n",
    "import sqlite3\n",
    "import pandas as pd \n",
    "import matplotlib.pyplot as plt\n",
    "import numpy as np\n",
    "from pandas.plotting import parallel_coordinates\n",
    "%matplotlib inline\n",
    "\n",
    "db_filename = \"dinofunworld.db\"\n",
    "connect = sqlite3.connect(db_filename)\n",
    "cursor = connect.cursor()\n",
    "cursor.execute(\"SELECT name FROM sqlite_master WHERE type='table'\")\n",
    "tables_names = cursor.fetchall()\n",
    "print(tables_names)\n",
    "for name in tables_names:\n",
    "    cursor.execute(f\"SELECT * FROM {name[0]}\")\n",
    "    table_cols = [description[0] for description in cursor.description]\n",
    "    print(table_cols)"
   ]
  },
  {
   "attachments": {},
   "cell_type": "markdown",
   "metadata": {},
   "source": [
    "### **Question 1:**\n",
    "Create a distance matrix suitable for use in hierarchical clustering of the checkin sequences of the 5 specified visitors.\n",
    "\n",
    "Your distance function should count the number of dissimilarities in the sequences without considering any other factors.\n",
    "\n",
    "**Note** \n",
    "* The distance matrix should be reported as a dictionary of dictionaries (eg. {1: {2:0, 3:0, 4:0}, 2: {1:0, 3:0, ...}, ...}).\n",
    "* The order of the output is not important."
   ]
  },
  {
   "cell_type": "code",
   "execution_count": 79,
   "metadata": {},
   "outputs": [
    {
     "name": "stdout",
     "output_type": "stream",
     "text": [
      "{165316: {296394: 318, 404385: 329, 448990: 318, 1835254: 336}, 296394: {165316: 318, 404385: 303, 448990: 0, 1835254: 282}, 404385: {165316: 329, 296394: 303, 448990: 303, 1835254: 298}, 448990: {165316: 318, 296394: 0, 404385: 303, 1835254: 282}, 1835254: {165316: 336, 296394: 282, 404385: 298, 448990: 282}}\n"
     ]
    }
   ],
   "source": [
    "### TEST FUNCTION: test_question1\n",
    "# DO NOT REMOVE OR MODIFY THE ABOVE LINE\n",
    "# your code here\n",
    "cursor.execute(\"SELECT visitorID, sequence FROM sequences WHERE visitorID in (165316, 1835254, 296394, 404385, 448990)\")\n",
    "sequence = cursor.fetchall()\n",
    "# dist_matrix = {}\n",
    "# checked = []\n",
    "# for i in range(len(sequence)):\n",
    "#     curr_id = sequence[i][0]\n",
    "#     curr_sequence = sequence[i][1]\n",
    "#     sub_dict = {}\n",
    "#     for j in range(i+1, len(sequence)):\n",
    "#         next_id = sequence[j][0]\n",
    "#         next_sequence = sequence[j][1]\n",
    "#         if j < len(sequence) and curr_id != next_id:\n",
    "            \n",
    "#             sequence1_pruned = np.asarray([int(k) for k in curr_sequence.split('-')])\n",
    "#             sequence2_pruned = np.asarray([int(k) for k in next_sequence.split('-')])\n",
    "#             sub_dict[next_id] = np.sum(abs(np.subtract(sequence1_pruned, sequence2_pruned)) != 0).tolist()\n",
    "#             dist_matrix[curr_sequence] = sub_dict\n",
    "# print(dist_matrix)\n",
    "\n",
    "dist_matrix = {}\n",
    "checked = []\n",
    "for i in range(len(sequence)):\n",
    "    sub_dict = {}\n",
    "    main_id_key = sequence[i][0]\n",
    "    for j in range(len(sequence)):\n",
    "        sub_id_key = sequence[j][0]\n",
    "        if main_id_key != sub_id_key:\n",
    "            sequence1_pruned = np.asarray([int(k) for k in sequence[i][1].split('-')])\n",
    "            sequence2_pruned = np.asarray([int(k) for k in sequence[j][1].split('-')])\n",
    "            sub_dict[sub_id_key] = np.sum(abs(np.subtract(sequence1_pruned, sequence2_pruned)) != 0).tolist()\n",
    "            dist_matrix[main_id_key] = sub_dict\n",
    "print(dist_matrix)"
   ]
  },
  {
   "attachments": {},
   "cell_type": "markdown",
   "metadata": {},
   "source": [
    "### **Question 2:**  \n",
    "Create and display a Parallel Coordinate Plot displaying the minimum, maximum and average attendance for each ride in the park.\n",
    "\n",
    "For this question, display a Parallel Coordinate Plot in the notebook and print the data used to create a Parallel Coordinate Plot as a dictionary of dictionaries (eg: {  'Ride1' : {min : 1, max : 3, avg : 2 }, 'Ride2' :{ min : 1, max : 3, avg : 2 } ... })\n",
    "\n",
    "**Note:** \n",
    "* Not all attractions are rides.\n",
    "* The output should be a dictionary and the order of the output is not important.\n",
    "* Use the parallel coordinates function from the **pandas library** to generate the graph.\n",
    "* The Parallel Coordinate plot must have the below mentioned parameters,\n",
    "    * legend and it should be outside the plot.\n",
    "    * y-label ('**Attendance**')\n",
    "    * title named '**Ride Attendance - Minimum, Maximum, Average**'\n",
    "* The plot must not have the following parameters,\n",
    "    * do not set figure size\n",
    "    * do not set font size or font-weight for titles and labels"
   ]
  },
  {
   "cell_type": "code",
   "execution_count": 148,
   "metadata": {},
   "outputs": [
    {
     "name": "stdout",
     "output_type": "stream",
     "text": [
      "{'Wrightiraptor Mountain': {'min': 2, 'max': 158, 'avg': 52.75}, 'Galactosaurus Rage': {'min': 1, 'max': 261, 'avg': 56.63715277777778}, 'Auvilotops Express': {'min': 1, 'max': 640, 'avg': 118.97916666666667}, 'TerrorSaur': {'min': 2, 'max': 424, 'avg': 248.09375}, 'Wendisaurus Chase': {'min': 3, 'max': 491, 'avg': 233.6875}, 'Keimosaurus Big Spin': {'min': 1, 'max': 206, 'avg': 64.39756944444444}, 'Firefall': {'min': 1, 'max': 576, 'avg': 233.46875}, 'Atmosfear': {'min': 2, 'max': 335, 'avg': 126.359375}, 'North Line': {'min': 2, 'max': 166, 'avg': 45.06944444444444}, 'Jeredactyl Jump': {'min': 4, 'max': 112, 'avg': 21.66840277777778}, 'Sauroma Bumpers': {'min': 1, 'max': 148, 'avg': 23.866319444444443}, 'Flying TyrAndrienkos': {'min': 1, 'max': 98, 'avg': 19.76215277777778}, 'Cyndisaurus Asteroid': {'min': 1, 'max': 72, 'avg': 12.947916666666666}, 'Beelzebufo': {'min': 1, 'max': 93, 'avg': 13.869791666666666}, 'Enchanted Toadstools': {'min': 2, 'max': 77, 'avg': 12.864583333333334}, 'Stegocycles': {'min': 3, 'max': 76, 'avg': 13.276041666666666}, 'Blue Iguanodon': {'min': 2, 'max': 73, 'avg': 13.18923611111111}, 'Wild Jungle Cruise': {'min': 2, 'max': 90, 'avg': 14.883680555555555}, 'Stone Cups': {'min': 2, 'max': 70, 'avg': 12.34375}, 'Scholtz Express': {'min': 1, 'max': 185, 'avg': 66.12152777777777}, 'Paleocarrie Carousel': {'min': 1, 'max': 99, 'avg': 28.932291666666668}, 'Jurassic Road': {'min': 2, 'max': 86, 'avg': 20.395833333333332}, 'Rhynasaurus Rampage': {'min': 1, 'max': 76, 'avg': 16.635416666666668}, \"Kauf's Lost Canyon Escape\": {'min': 2, 'max': 133, 'avg': 22.413194444444443}, 'Maiasaur Madness': {'min': 4, 'max': 91, 'avg': 21.291666666666668}, 'Kristanodon Kaper': {'min': 4, 'max': 138, 'avg': 30.34027777777778}, 'Squidosaur': {'min': 2, 'max': 109, 'avg': 19.65972222222222}, 'Eberlesaurus Roundup': {'min': 3, 'max': 76, 'avg': 17.211805555555557}, 'Dykesadactyl Thrill': {'min': 2, 'max': 62, 'avg': 14.993055555555555}, 'Ichthyoroberts Rapids': {'min': 2, 'max': 404, 'avg': 191.14583333333334}, 'Raptor Race': {'min': 2, 'max': 94, 'avg': 19.4375}, 'Flight of the Swingodon': {'min': 2, 'max': 534, 'avg': 253.93055555555554}}\n"
     ]
    }
   ],
   "source": [
    "### TEST FUNCTION: test_question2\n",
    "# DO NOT REMOVE OR MODIFY THE ABOVE LINE\n",
    "# your code here\n",
    "rides = cursor.execute(\"SELECT AttractionID, Name FROM attraction WHERE Category LIKE '%Ride%'\").fetchall()\n",
    "sequences = cursor.execute(\"SELECT sequence FROM sequences\").fetchall()\n",
    "sequences = np.asarray([tup[0].split('-') for tup in sequences])\n",
    "attendance = {}\n",
    "for (idx, name) in rides:\n",
    "    minimum = np.min(np.nonzero(np.sum(sequences == str(idx), axis = 0)))\n",
    "    maximum = np.max(np.sum(sequences == str(idx), axis = 0))\n",
    "    average = np.mean(np.sum(sequences == str(idx), axis = 0))\n",
    "    metrics = {'min': minimum, 'max': maximum, 'avg': average}\n",
    "    attendance[name] = metrics\n",
    "print(attendance)"
   ]
  },
  {
   "attachments": {},
   "cell_type": "markdown",
   "metadata": {},
   "source": [
    "### **Question 3:**\n",
    "Create and display a Scatterplot Matrix displaying the minimum, maximum and average attendance for each ride in the park.\n",
    "\n",
    "\n",
    "**Note:** \n",
    "* Print the output values of Question 2 as the same data will be used for Scatterplot.\n",
    "* The output should be a dictionary (eg: {  'Ride1' : {min : 1, max : 3, avg : 2 }, 'Ride2' :{ min : 1, max : 3, avg : 2 } ... }) and the order of the output is not important.\n",
    "* This is a different view into the same data as the previous part. Use the scatter plot matrix function from the **pandas library** to generate the graph.\n",
    "* While you work on these plots, consider the different things that each chart says about the data.\n",
    "* The Scatterplot must have the below mentioned parameters,\n",
    "    * title named ' **Scatterplot Matrix - Minimum, Maximum, Average Attendance** '\n",
    "* The plot must not have the following parameters,\n",
    "    * legend\n",
    "    * do not set figure size\n",
    "    * do not set font size or font-weight for titles and labels"
   ]
  },
  {
   "cell_type": "code",
   "execution_count": null,
   "metadata": {},
   "outputs": [],
   "source": [
    "### TEST FUNCTION: test_question3\n",
    "# DO NOT REMOVE OR MODIFY THE ABOVE LINE\n",
    "# your code here\n"
   ]
  }
 ],
 "metadata": {
  "kernelspec": {
   "display_name": "py311",
   "language": "python",
   "name": "py311"
  },
  "language_info": {
   "codemirror_mode": {
    "name": "ipython",
    "version": 3
   },
   "file_extension": ".py",
   "mimetype": "text/x-python",
   "name": "python",
   "nbconvert_exporter": "python",
   "pygments_lexer": "ipython3",
   "version": "3.11.11"
  }
 },
 "nbformat": 4,
 "nbformat_minor": 4
}
