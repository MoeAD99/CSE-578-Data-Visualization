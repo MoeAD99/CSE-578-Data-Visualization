{
    "metadata": {
        "kernelspec": {
            "name": "python3",
            "display_name": "Python 3 (ipykernel)",
            "language": "python"
        }
    },
    "nbformat": 4,
    "nbformat_minor": 2,
    "cells": [
        {
            "attachments": {},
            "cell_type": "markdown",
            "metadata": {},
            "source": [
                "Add your import statements and the database connection statements in the below code block\n",
                "\n",
                "Database file path: /course/data/CSE-578/dinofunworld.db"
            ]
        },
        {
            "cell_type": "code",
            "execution_count": 0,
            "metadata": {},
            "outputs": [],
            "source": [
                "# your code here\n",
                ""
            ]
        },
        {
            "attachments": {},
            "cell_type": "markdown",
            "metadata": {},
            "source": [
                "### **Question 1**:\n",
                "Create and display a control chart showing attendance at the ride 'Atmosfear' over the data provided. In the control chart, display the attendance, the mean attendance, and bands for one and two standard deviations away from the average.\n",
                "\n",
                "**Note:** \n",
                "* For this question, display the control chart in the notebook and print the mean attendance and standard deviation values as a list. \n",
                "For example: [mean, standard_deviation]\n",
                "* Create a single Control chart that displays the mean, standard deviation, and attendance, adhering to the specified line style and color as outlined below.\n",
                "    * Mean: 'g-'\n",
                "    * +2 STD and -2 STD: 'r-'\n",
                "    * +STD and -STD: 'y-'\n",
                "    * Attendance: 'b-'\n",
                "* The Control Chart should also have the below mentioned parameters,\n",
                "    * legend that displays the mean and standard deviation adhering to the specified line and color. Note: Legend should be outside the plot.\n",
                "    * title named '**Control Chart of attendance at Atmosfear**'\n",
                "    * x-label ('**Time in minutes**') and y-label ('**Attendance**')\n",
                "* The plot must not have the following parameters,\n",
                "    * do not set figure size\n",
                "    * do not set font size or font-weight for titles and labels\n",
                ""
            ]
        },
        {
            "cell_type": "code",
            "execution_count": 0,
            "metadata": {},
            "outputs": [],
            "source": [
                "### TEST FUNCTION: test_question1\n",
                "# DO NOT REMOVE OR MODIFY THE ABOVE LINE\n",
                "# your code here\n",
                ""
            ]
        },
        {
            "attachments": {},
            "cell_type": "markdown",
            "metadata": {},
            "source": [
                "### **Question 2**:\n",
                "Create and display a moving average chart of the attendance at 'Atmosfear' over the data provided. Use a window size of 50 for this moving average.\n",
                "\n",
                "**Note:** \n",
                "* The Moving Average Chart should have the below mentioned parameters,\n",
                "    * set mode to 'same' while performing convolution\n",
                "    * title named '**Moving Average Chart of attendance at Atmosfear**'\n",
                "    * x-label ('**Time in minutes**') and y-label ('**Attendance**')\n",
                "* The plot must not have the following parameters,\n",
                "    * legend\n",
                "    * do not set figure size\n",
                "    * do not set font size or font-weight for titles and labels\n",
                ""
            ]
        },
        {
            "cell_type": "code",
            "execution_count": 0,
            "metadata": {},
            "outputs": [],
            "source": [
                "### TEST FUNCTION: test_question2\n",
                "# DO NOT REMOVE OR MODIFY THE ABOVE LINE\n",
                "# your code here\n",
                ""
            ]
        },
        {
            "attachments": {},
            "cell_type": "markdown",
            "metadata": {},
            "source": [
                "### **Question 3**:\n",
                "Create and display an exponentially-weighted moving average chart of the attendance at 'Atmosfear' over the data provided. Again, use a window size of 50 for this weighted moving average.\n",
                "\n",
                "**Note:** \n",
                "* The Weighted Moving Average Chart should have the below mentioned parameters,\n",
                "    * title named '**Exponentially Weighted Moving Average Chart of the attendance at Atmosfear**'  \n",
                "    * x-label ('**Time in minutes**') and y-label ('**Attendance**')\n",
                "* The plot must not have the following parameters,\n",
                "    * legend\n",
                "    * do not set figure size\n",
                "    * do not set font size or font-weight for titles and labels\n",
                ""
            ]
        },
        {
            "cell_type": "code",
            "execution_count": 0,
            "metadata": {},
            "outputs": [],
            "source": [
                "### TEST FUNCTION: test_question3\n",
                "# DO NOT REMOVE OR MODIFY THE ABOVE LINE\n",
                "# your code here\n",
                ""
            ]
        }
    ]
}
