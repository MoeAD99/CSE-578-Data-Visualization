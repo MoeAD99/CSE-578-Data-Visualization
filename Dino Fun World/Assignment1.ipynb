{
 "cells": [
  {
   "cell_type": "markdown",
   "metadata": {},
   "source": [
    "Add your import statements and the database connection statements in the below code block\n",
    "\n",
    "Database file path = '/course/data/CSE-578/dinofunworld.db'"
   ]
  },
  {
   "cell_type": "code",
   "execution_count": 74,
   "metadata": {},
   "outputs": [
    {
     "name": "stdout",
     "output_type": "stream",
     "text": [
      "[('checkin',), ('attraction',), ('sequences',)]\n",
      "['index', 'visitorID', 'timestamp', 'attraction', 'duration', 'type']\n"
     ]
    }
   ],
   "source": [
    "#your code here\n",
    "import sqlite3\n",
    "db_filename = \"dinofunworld.db\"\n",
    "connect = sqlite3.connect(db_filename)\n",
    "cursor = connect.cursor()\n",
    "cursor.execute(\"SELECT name FROM sqlite_master WHERE type='table'\")\n",
    "names = cursor.fetchall()\n",
    "print(names)\n",
    "cursor.execute(\"SELECT * FROM checkin\")\n",
    "checkin_cols = [description[0] for description in cursor.description]\n",
    "print(checkin_cols)"
   ]
  },
  {
   "cell_type": "markdown",
   "metadata": {},
   "source": [
    "**Question 1:** \n",
    "\n",
    "What is the most popular attraction to visit in the park?\n",
    "\n",
    "**Note:** Your output should be the name of the attraction. Please print your output in the cell below."
   ]
  },
  {
   "cell_type": "code",
   "execution_count": 85,
   "metadata": {},
   "outputs": [
    {
     "name": "stdout",
     "output_type": "stream",
     "text": [
      "Atmosfear\n",
      "('Atmosfear',)\n"
     ]
    }
   ],
   "source": [
    "### TEST FUNCTION: test_question1\n",
    "# DO NOT REMOVE THE LINE ABOVE\n",
    "# your code here\n",
    "query = \"\"\"\n",
    "SELECT Name \n",
    "FROM attraction \n",
    "WHERE attraction.AttractionID = (\n",
    "    SELECT attraction\n",
    "    FROM checkin\n",
    "    GROUP BY attraction\n",
    "    HAVING count(attraction) = (\n",
    "        SELECT Max(x)\n",
    "        FROM(\n",
    "            SELECT count(attraction) as x\n",
    "            FROM checkin\n",
    "            GROUP BY attraction\n",
    "        )\n",
    "    )\n",
    ")\n",
    "\"\"\"\n",
    "cursor.execute(query)\n",
    "name = cursor.fetchone()[0]\n",
    "print(name)\n",
    "# for name in names:\n",
    "#     print(name)\n",
    "#print(names)"
   ]
  },
  {
   "cell_type": "markdown",
   "metadata": {},
   "source": [
    "**Question 2:** \n",
    "\n",
    "What ride (note that not all attractions are rides) has the second longest average visit time?\n",
    "\n",
    "**Note:** Your output should be the name of the ride. Please print your output in the cell below.\n"
   ]
  },
  {
   "cell_type": "code",
   "execution_count": 78,
   "metadata": {},
   "outputs": [],
   "source": [
    "### TEST FUNCTION: test_question2\n",
    "# DO NOT REMOVE THE LINE ABOVE\n",
    "# your code here\n"
   ]
  },
  {
   "cell_type": "markdown",
   "metadata": {},
   "source": [
    "**Question 3:** \n",
    "\n",
    "Which Fast Food offering in the park has the fewest visitors?\n",
    "\n",
    "**Note:** Your output should be the name of the fast food offering. Please print your output in the cell below."
   ]
  },
  {
   "cell_type": "code",
   "execution_count": 80,
   "metadata": {},
   "outputs": [],
   "source": [
    "### TEST FUNCTION: test_question3\n",
    "# DO NOT REMOVE THE LINE ABOVE\n",
    "# your code here\n"
   ]
  }
 ],
 "metadata": {
  "kernelspec": {
   "display_name": "py311",
   "language": "python",
   "name": "py311"
  },
  "language_info": {
   "codemirror_mode": {
    "name": "ipython",
    "version": 3
   },
   "file_extension": ".py",
   "mimetype": "text/x-python",
   "name": "python",
   "nbconvert_exporter": "python",
   "pygments_lexer": "ipython3",
   "version": "3.11.11"
  }
 },
 "nbformat": 4,
 "nbformat_minor": 4
}
