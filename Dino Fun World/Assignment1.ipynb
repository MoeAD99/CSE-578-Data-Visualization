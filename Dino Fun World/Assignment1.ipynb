{
 "cells": [
  {
   "cell_type": "markdown",
   "metadata": {},
   "source": [
    "Add your import statements and the database connection statements in the below code block\n",
    "\n",
    "Database file path = '/course/data/CSE-578/dinofunworld.db'"
   ]
  },
  {
   "cell_type": "code",
   "execution_count": 320,
   "metadata": {},
   "outputs": [
    {
     "name": "stdout",
     "output_type": "stream",
     "text": [
      "[('checkin',), ('attraction',), ('sequences',)]\n",
      "['index', 'visitorID', 'timestamp', 'attraction', 'duration', 'type']\n",
      "['index', 'AttractionID', 'Name', 'Region', 'Category', 'type']\n",
      "['index', 'visitorID', 'sequence']\n"
     ]
    }
   ],
   "source": [
    "#your code here\n",
    "import sqlite3\n",
    "from datetime import datetime as dt\n",
    "\n",
    "db_filename = \"dinofunworld.db\"\n",
    "connect = sqlite3.connect(db_filename)\n",
    "cursor = connect.cursor()\n",
    "cursor.execute(\"SELECT name FROM sqlite_master WHERE type='table'\")\n",
    "tables_names = cursor.fetchall()\n",
    "print(tables_names)\n",
    "for name in tables_names:\n",
    "    cursor.execute(f\"SELECT * FROM {name[0]}\")\n",
    "    table_cols = [description[0] for description in cursor.description]\n",
    "    print(table_cols)"
   ]
  },
  {
   "cell_type": "markdown",
   "metadata": {},
   "source": [
    "**Question 1:** \n",
    "\n",
    "What is the most popular attraction to visit in the park?\n",
    "\n",
    "**Note:** Your output should be the name of the attraction. Please print your output in the cell below."
   ]
  },
  {
   "cell_type": "code",
   "execution_count": 332,
   "metadata": {},
   "outputs": [
    {
     "name": "stdout",
     "output_type": "stream",
     "text": [
      "Atmosfear\n"
     ]
    }
   ],
   "source": [
    "### TEST FUNCTION: test_question1\n",
    "# DO NOT REMOVE THE LINE ABOVE\n",
    "# your code here\n",
    "query = \"\"\"\n",
    "SELECT Name \n",
    "FROM attraction \n",
    "WHERE attraction.AttractionID = (\n",
    "    SELECT attraction\n",
    "    FROM checkin\n",
    "    GROUP BY attraction\n",
    "    HAVING count(attraction) = (\n",
    "        SELECT Max(x)\n",
    "        FROM(\n",
    "            SELECT count(attraction) as x\n",
    "            FROM checkin\n",
    "            GROUP BY attraction\n",
    "        )\n",
    "    )\n",
    ")\n",
    "\"\"\"\n",
    "cursor.execute(query)\n",
    "name = cursor.fetchone()[0]\n",
    "print(name)"
   ]
  },
  {
   "cell_type": "markdown",
   "metadata": {},
   "source": [
    "**Question 2:** \n",
    "\n",
    "What ride (note that not all attractions are rides) has the second longest average visit time?\n",
    "\n",
    "**Note:** Your output should be the name of the ride. Please print your output in the cell below.\n"
   ]
  },
  {
   "cell_type": "code",
   "execution_count": 324,
   "metadata": {},
   "outputs": [
    {
     "name": "stdout",
     "output_type": "stream",
     "text": [
      "Flight of the Swingodon\n"
     ]
    }
   ],
   "source": [
    "### TEST FUNCTION: test_question2\n",
    "# DO NOT REMOVE THE LINE ABOVE\n",
    "# your code here\n",
    "\n",
    "cursor.execute(\"SELECT Name FROM attraction WHERE Category LIKE '%ride%'\")\n",
    "rides = cursor.fetchall()\n",
    "\n",
    "ride_time = {}\n",
    "for ride in rides:\n",
    "    ride_time[ride[0]] = 0\n",
    "\n",
    "ride_count_and_total_time = dict()\n",
    "for ride in rides:\n",
    "    ride_count_and_total_time[ride[0]] = (0,0)\n",
    "query = \"\"\"\n",
    "SELECT Name, duration\n",
    "FROM attraction, checkin\n",
    "WHERE Category LIKE '%ride%' and attraction.AttractionID = checkin.attraction and checkin.type = 'actual'\n",
    "\"\"\"\n",
    "cursor.execute(query)\n",
    "ride_duration = cursor.fetchall()\n",
    "for category, duration in ride_duration:\n",
    "    if duration is not None and dt.strptime(duration, \"%H:%M:%S\").time():\n",
    "        time = dt.strptime(duration, \"%H:%M:%S\").time()\n",
    "        duration_seconds = time.hour * 3600 + time.minute * 60 + time.second\n",
    "        ride_count = ride_count_and_total_time[category][0] + 1\n",
    "        ride_total_time = ride_count_and_total_time[category][1] + duration_seconds\n",
    "        ride_count_and_total_time[category] = (ride_count, ride_total_time)\n",
    "\n",
    "rides_averages = {}\n",
    "for key, value in ride_count_and_total_time.items():\n",
    "    ride_count = value[0]\n",
    "    ride_total_time = value[1]\n",
    "    rides_averages[key] = ride_total_time/ride_count\n",
    "\n",
    "sorted_avg_list = [value for value in rides_averages.values()]\n",
    "sorted_avg_list.sort()\n",
    "second_avg_time = sorted_avg_list[-2]\n",
    "\n",
    "for key, value in rides_averages.items():\n",
    "    if value == second_avg_time:\n",
    "        print(key)"
   ]
  },
  {
   "cell_type": "markdown",
   "metadata": {},
   "source": [
    "**Question 3:** \n",
    "\n",
    "Which Fast Food offering in the park has the fewest visitors?\n",
    "\n",
    "**Note:** Your output should be the name of the fast food offering. Please print your output in the cell below."
   ]
  },
  {
   "cell_type": "code",
   "execution_count": 326,
   "metadata": {},
   "outputs": [
    {
     "name": "stdout",
     "output_type": "stream",
     "text": [
      "Theresaur Food Stop\n"
     ]
    }
   ],
   "source": [
    "### TEST FUNCTION: test_question3\n",
    "# DO NOT REMOVE THE LINE ABOVE\n",
    "# your code here\n",
    "\n",
    "# query = \"\"\"\n",
    "# SELECT Name \n",
    "# FROM attraction \n",
    "# WHERE attraction.AttractionID = (\n",
    "#     SELECT attraction\n",
    "#     FROM checkin\n",
    "#     GROUP BY attraction\n",
    "#     HAVING count(attraction) = (\n",
    "#         SELECT Min(x)\n",
    "#         FROM(\n",
    "#             SELECT count(checkin.attraction) as x\n",
    "#             FROM checkin, attraction\n",
    "#             WHERE attraction.Category LIKE '%Food%' and attraction.AttractionID = checkin.attraction\n",
    "#             GROUP BY checkin.attraction\n",
    "#         )\n",
    "#     )\n",
    "# )\n",
    "# \"\"\"\n",
    "\n",
    "query = \"\"\"\n",
    "SELECT Name\n",
    "FROM attraction, checkin\n",
    "WHERE attraction.Category LIKE '%Food%' and attraction.AttractionID = checkin.attraction\n",
    "GROUP BY Name\n",
    "ORDER BY count(Name) ASC\n",
    "\"\"\"\n",
    "cursor.execute(query)\n",
    "seq = cursor.fetchone()[0]\n",
    "print(seq)"
   ]
  },
  {
   "cell_type": "code",
   "execution_count": null,
   "metadata": {},
   "outputs": [],
   "source": []
  }
 ],
 "metadata": {
  "kernelspec": {
   "display_name": "py311",
   "language": "python",
   "name": "py311"
  },
  "language_info": {
   "codemirror_mode": {
    "name": "ipython",
    "version": 3
   },
   "file_extension": ".py",
   "mimetype": "text/x-python",
   "name": "python",
   "nbconvert_exporter": "python",
   "pygments_lexer": "ipython3",
   "version": "3.11.11"
  }
 },
 "nbformat": 4,
 "nbformat_minor": 4
}
