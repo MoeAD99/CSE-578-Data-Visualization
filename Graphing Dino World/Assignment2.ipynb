{
 "cells": [
  {
   "attachments": {},
   "cell_type": "markdown",
   "metadata": {},
   "source": [
    "Add your import statements and the database connection statements in the below code block\n",
    "\n",
    "Database file path = '/course/data/CSE-578/dinofunworld.db'"
   ]
  },
  {
   "cell_type": "code",
   "execution_count": 19,
   "metadata": {},
   "outputs": [
    {
     "name": "stdout",
     "output_type": "stream",
     "text": [
      "[('checkin',), ('attraction',), ('sequences',)]\n",
      "['index', 'visitorID', 'timestamp', 'attraction', 'duration', 'type']\n",
      "['index', 'AttractionID', 'Name', 'Region', 'Category', 'type']\n",
      "['index', 'visitorID', 'sequence']\n"
     ]
    }
   ],
   "source": [
    "#your code here\n",
    "import sqlite3\n",
    "from datetime import datetime as dt\n",
    "\n",
    "db_filename = \"dinofunworld.db\"\n",
    "connect = sqlite3.connect(db_filename)\n",
    "cursor = connect.cursor()\n",
    "cursor.execute(\"SELECT name FROM sqlite_master WHERE type='table'\")\n",
    "tables_names = cursor.fetchall()\n",
    "print(tables_names)\n",
    "for name in tables_names:\n",
    "    cursor.execute(f\"SELECT * FROM {name[0]}\")\n",
    "    table_cols = [description[0] for description in cursor.description]\n",
    "    print(table_cols)"
   ]
  },
  {
   "attachments": {},
   "cell_type": "markdown",
   "metadata": {},
   "source": [
    "**Question 1 :** \n",
    "\n",
    "Make a Pie Chart of the visits to Thrill Ride attractions.\n",
    "\n",
    "**Note:** \n",
    "* For this question, display the pie chart in the notebook and print the data used to create the pie chart as a list of lists (ex: [['Ride 1', 10], ['Ride 2', 100], ...])\n",
    "* The pie chart must have the below mentioned parameters,\n",
    "    * labels\n",
    "    * title named '**Visits to Thrill Ride attractions**'\n",
    "    * label with one decimal value inside wedges\n",
    "    * set aspect ratio of the plot to 'equal'.\n",
    "* The plot must not have the following parameters,\n",
    "    * legend\n",
    "    * do not set figure size\n",
    "    * do not set font size or font-weight for titles and labels\n"
   ]
  },
  {
   "cell_type": "code",
   "execution_count": 29,
   "metadata": {},
   "outputs": [
    {
     "name": "stdout",
     "output_type": "stream",
     "text": [
      "[('Wrightiraptor Mountain', 18700), ('Galactosaurus Rage', 18717), ('Auvilotops Express', 18694), ('TerrorSaur', 14415), ('Wendisaurus Chase', 15577), ('Keimosaurus Big Spin', 18792), ('Firefall', 16024), ('Atmosfear', 27747), ('Flight of the Swingodon', 16093)]\n"
     ]
    }
   ],
   "source": [
    "### TEST FUNCTION: test_question1\n",
    "# DO NOT REMOVE OR MODIFY THE ABOVE LINE\n",
    "# your code here\n",
    "query = \"\"\"\n",
    "SELECT attraction.Name, count(checkin.attraction)\n",
    "FROM checkin, attraction\n",
    "WHERE attraction.AttractionID = checkin.attraction AND attraction.Category LIKE '%Thrill Rides%'\n",
    "GROUP BY checkin.attraction\n",
    "\"\"\"\n",
    "cursor.execute(query)\n",
    "attraction_visitors = cursor.fetchall()\n",
    "print(attraction_visitors)"
   ]
  },
  {
   "attachments": {},
   "cell_type": "markdown",
   "metadata": {},
   "source": [
    "**Question 2 :** \n",
    "\n",
    "Make a bar chart of total visits to food stalls.\n",
    "\n",
    "**Note:** \n",
    "* Please query attractions with category equal to \"Food\" and order by number of visits.\n",
    "* For this question, display the bar chart in the notebook and print the data used to create the bar chart as a list of lists (ex: [['Stall 1', 10], ['Stall 2', 50], ...])\n",
    "* The bar chart should be a **vertical bar plot** and must have the specified parameters listed below,\n",
    "  * Set x-axis to food stalls, labeling each food stall with names rotated at a 45-degree angle and right horizontal alignment. Set y-axis to number of visits.\n",
    "  * x-label ('**Food Stalls**') and y-label ('**Number of Visits**')\n",
    "  * title named '**Total Visits to Food Stalls**'\n",
    "* The plot must not have the following parameters,\n",
    "    * legend\n",
    "    * do not set figure size\n",
    "    * do not set font size or font-weight for titles and labels\n"
   ]
  },
  {
   "cell_type": "code",
   "execution_count": 3,
   "metadata": {},
   "outputs": [],
   "source": [
    "### TEST FUNCTION: test_question2\n",
    "# DO NOT REMOVE OR MODIFY THE ABOVE LINE\n",
    "# your code here\n"
   ]
  },
  {
   "attachments": {},
   "cell_type": "markdown",
   "metadata": {},
   "source": [
    "**Question 3 :** \n",
    "\n",
    "Make a line chart of attendance at Atmosfear every five minutes.\n",
    "\n",
    "**Note:** \n",
    "* For this question, use data from the table \"sequences\". You can assume that all activity sequences are aligned by time (i.e., the first node of all sequences occurred at the same time) and are of the same length.\n",
    "* You only need to consider the first 16 hours of records in the sequences, which is considered the open hours of the park in one day. Specifically, because an activity sequence from the \"sequences\" table was updated/recorded every 5 minutes, you need to extract the first 192 items (16h * 60m / 5m = 192).\n",
    "* Display the line chart in the notebook and print the data used to create the chart as a list of lists or tuple lists \n",
    "    * The first item in the list is irrelevant, but you can put in some meaningful information and it should be integer.The second item is the count of visits at that moment. For example, your output should look like this (in Python syntax; not relevant to the correct answer): [ (0, 0), (1, 7), (2, 3), …, (190, 4), (191, 5) ].\n",
    "* The line chart must have the specified parameters listed below,\n",
    "  * Set x-axis to the first element in your output list and y-axis to the second item in the list (number of visits)  \n",
    "  * x-label ('**Time in minutes**') and y-label ('**Number of visits**')\n",
    "  * title named '**Attendance at Atmosfear every 5 minutes**'\n",
    "* The plot must not have the following parameters,\n",
    "    * legend\n",
    "    * do not set figure size\n",
    "    * do not set font size or font-weight for titles and labels"
   ]
  },
  {
   "cell_type": "code",
   "execution_count": 4,
   "metadata": {},
   "outputs": [],
   "source": [
    "### TEST FUNCTION: test_question3\n",
    "# DO NOT REMOVE OR MODIFY THE ABOVE LINE\n",
    "# your code here\n",
    "\n"
   ]
  },
  {
   "attachments": {},
   "cell_type": "markdown",
   "metadata": {},
   "source": [
    "**Question 4:**\n",
    "\n",
    "Make a box plot of total visits to rides in the Kiddie Rides category.\n",
    "\n",
    "**Note:** \n",
    "* The to-be-printed data list must be ordered by AttractionID (a field in the table \"attraction\").\n",
    "* For this question, display the box plot in the notebook and print the number of visits to each ride as a list (ex: [3, 4, 5, 6, ...])\n",
    "* The boxplot chart must have the specified parameters listed below,\n",
    "  * Set x-axis to Attraction and y-axis to number of visits to each ride.   \n",
    "  * x-label ('**Attraction**') and y-label ('**Visitor Count**')\n",
    "  * title named '**Total visits to rides in the Kiddie Rides category**'\n",
    "* The plot must not have the following parameters,\n",
    "    * legend\n",
    "    * do not set figure size\n",
    "    * do not set font size or font-weight for titles and labels"
   ]
  },
  {
   "cell_type": "code",
   "execution_count": 5,
   "metadata": {},
   "outputs": [],
   "source": [
    "### TEST FUNCTION: test_question4\n",
    "# DO NOT REMOVE OR MODIFY THE ABOVE LINE\n",
    "# your code here\n"
   ]
  }
 ],
 "metadata": {
  "kernelspec": {
   "display_name": "py311",
   "language": "python",
   "name": "py311"
  },
  "language_info": {
   "codemirror_mode": {
    "name": "ipython",
    "version": 3
   },
   "file_extension": ".py",
   "mimetype": "text/x-python",
   "name": "python",
   "nbconvert_exporter": "python",
   "pygments_lexer": "ipython3",
   "version": "3.11.11"
  }
 },
 "nbformat": 4,
 "nbformat_minor": 4
}
